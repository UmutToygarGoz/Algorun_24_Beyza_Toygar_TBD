{
 "cells": [
  {
   "cell_type": "code",
   "execution_count": 1,
   "id": "966538c4",
   "metadata": {},
   "outputs": [
    {
     "name": "stderr",
     "output_type": "stream",
     "text": [
      "C:\\Users\\dizii\\anaconda3\\lib\\site-packages\\scipy\\__init__.py:155: UserWarning: A NumPy version >=1.18.5 and <1.25.0 is required for this version of SciPy (detected version 1.26.2\n",
      "  warnings.warn(f\"A NumPy version >={np_minversion} and <{np_maxversion}\"\n"
     ]
    }
   ],
   "source": [
    "import numpy as np\n",
    "import pandas as pd\n",
    "import matplotlib.pyplot as plt\n",
    "import seaborn as sns\n",
    "import datetime as dt\n",
    "import datetime as dt\n",
    "from sklearn.linear_model import LinearRegression\n",
    "from sklearn.model_selection import train_test_split\n",
    "from sklearn.metrics import mean_absolute_error\n",
    "from sklearn.metrics import mean_squared_log_error\n"
   ]
  },
  {
   "cell_type": "code",
   "execution_count": 2,
   "id": "8f3c61fd",
   "metadata": {},
   "outputs": [],
   "source": [
    "train_file = \"data/train.csv\"\n",
    "products_file = \"data/products.csv\"\n",
    "holidays_file = \"data/holidays.csv\"\n",
    "sample_submission_file = \"data/sample_submission.csv\"\n",
    "\n",
    "train_df = pd.read_csv(train_file)\n",
    "products_df = pd.read_csv(products_file)\n",
    "holidays_df = pd.read_csv(holidays_file)\n",
    "sample_submission_df = pd.read_csv(sample_submission_file, delimiter=\"|\")\n",
    "test_df = pd.read_csv(\"data/test.csv\")\n"
   ]
  },
  {
   "cell_type": "code",
   "execution_count": 4,
   "id": "cea7e793",
   "metadata": {},
   "outputs": [],
   "source": [
    "train_df[\"week_starting_date\"] = pd.to_datetime(train_df[\"week_starting_date\"])\n",
    "test_df[\"week_starting_date\"] = pd.to_datetime(test_df[\"week_starting_date\"])\n",
    "sample_submission_df[\"week_starting_date\"] = pd.to_datetime(sample_submission_df[\"week_starting_date\"])"
   ]
  },
  {
   "cell_type": "code",
   "execution_count": 6,
   "id": "eb1f29cc",
   "metadata": {},
   "outputs": [],
   "source": [
    "merged_data = pd.merge(train_df, products_df, on=\"product_id\", how=\"inner\")\n"
   ]
  },
  {
   "cell_type": "code",
   "execution_count": 15,
   "id": "7dfefc2e",
   "metadata": {},
   "outputs": [],
   "source": [
    "first_submission_df = sample_submission_df.copy()\n",
    "\n",
    "# Shift train_df 53 weeks\n",
    "\n",
    "shifted_train_df = merged_data.copy()\n",
    "shifted_train_df[\"week_starting_date\"] = train_df[\"week_starting_date\"] + dt.timedelta(days=371)\n",
    "\n",
    "prepared_shifted_train_df = shifted_train_df.loc[:, [\"week_starting_date\", \"product_id\", \"sales_quantity\"]]\n",
    "\n",
    "first_submission_df = first_submission_df.merge(prepared_shifted_train_df, on=[\"week_starting_date\", \"product_id\"], how=\"left\")"
   ]
  },
  {
   "cell_type": "code",
   "execution_count": 20,
   "id": "88883d9b",
   "metadata": {},
   "outputs": [
    {
     "name": "stdout",
     "output_type": "stream",
     "text": [
      "Final Data with Mean Sales by Brand and Product Group 1:\n",
      "       product_id  brand  product_group_1_code  mean_sales\n",
      "0               2    200                     2   85.602346\n",
      "1               3     77                     4   18.101756\n",
      "2               4    322                     4   61.248182\n",
      "3               6    125                     4   12.114438\n",
      "4              16    152                     4    0.415120\n",
      "...           ...    ...                   ...         ...\n",
      "89713       89677     43                     0   31.743792\n",
      "89714       89685    125                     4   12.114438\n",
      "89715       89688    337                     4   46.567579\n",
      "89716       89691    247                     1   32.108188\n",
      "89717       89716     81                     4   14.174549\n",
      "\n",
      "[89718 rows x 4 columns]\n"
     ]
    }
   ],
   "source": [
    "train_df = pd.read_csv(\"data/train.csv\")\n",
    "products_df = pd.read_csv(\"data/products.csv\")\n",
    "\n",
    "# Handle negative sales\n",
    "train_df[\"sales_quantity\"] = train_df[\"sales_quantity\"].apply(lambda x: max(x, 0))\n",
    "\n",
    "# Merge train data with products data to include product groups\n",
    "merged_data = pd.merge(train_df, products_df, on=\"product_id\", how=\"inner\")\n",
    "\n",
    "# Group by brand and product_group_1_code to calculate mean sales\n",
    "grouped_sales = (\n",
    "    merged_data.groupby([\"brand\", \"product_group_1_code\"])\n",
    "    .agg(mean_sales=(\"sales_quantity\", \"mean\"))\n",
    "    .reset_index()\n",
    ")\n",
    "\n",
    "# Merge grouped data back to the product data\n",
    "final_data = pd.merge(\n",
    "    products_df, grouped_sales, on=[\"brand\", \"product_group_1_code\"], how=\"left\"\n",
    ")\n",
    "\n",
    "# Fill missing mean sales with the overall mean sales from train data\n",
    "overall_mean_sales = train_df[\"sales_quantity\"].mean()\n",
    "final_data[\"mean_sales\"] = final_data[\"mean_sales\"].fillna(overall_mean_sales)\n",
    "\n",
    "# Select final columns: product_id, brand, product_group_1_code, mean_sales\n",
    "final_data = final_data[[\"product_id\", \"brand\", \"product_group_1_code\", \"mean_sales\"]]\n",
    "\n",
    "# Print the final data\n",
    "print(\"Final Data with Mean Sales by Brand and Product Group 1:\")\n",
    "print(final_data)\n",
    "\n",
    "# Save to a CSV file (optional)\n",
    "final_data.to_csv(\"final_mean_sales_by_brand_and_group1.csv\", index=False)"
   ]
  },
  {
   "cell_type": "code",
   "execution_count": 28,
   "id": "ca3c14ab",
   "metadata": {},
   "outputs": [
    {
     "name": "stdout",
     "output_type": "stream",
     "text": [
      "Final Data with Mean Sales by Brand, Product Group 1, and Month:\n",
      "         product_id  brand  product_group_1_code  product_group_2_code  month  \\\n",
      "0                 2    200                     2                     4      1   \n",
      "1                 2    200                     2                     4      2   \n",
      "2                 2    200                     2                     4      3   \n",
      "3                 2    200                     2                     4      4   \n",
      "4                 2    200                     2                     4      5   \n",
      "...             ...    ...                   ...                   ...    ...   \n",
      "1076611       82002    317                     0                     1      8   \n",
      "1076612       82002    317                     0                     1      9   \n",
      "1076613       82002    317                     0                     1     10   \n",
      "1076614       82002    317                     0                     1     11   \n",
      "1076615       82002    317                     0                     1     12   \n",
      "\n",
      "         mean_sales  \n",
      "0         47.464286  \n",
      "1         65.516588  \n",
      "2         84.682836  \n",
      "3         94.419786  \n",
      "4         90.822323  \n",
      "...             ...  \n",
      "1076611   85.488695  \n",
      "1076612   45.404026  \n",
      "1076613   42.694204  \n",
      "1076614   45.332510  \n",
      "1076615   63.955910  \n",
      "\n",
      "[1076616 rows x 6 columns]\n"
     ]
    }
   ],
   "source": [
    "train_df = pd.read_csv(\"data/train.csv\")\n",
    "products_df = pd.read_csv(\"data/products.csv\")\n",
    "\n",
    "# Handle negative sales\n",
    "train_df[\"sales_quantity\"] = train_df[\"sales_quantity\"].apply(lambda x: max(x, 0))\n",
    "\n",
    "# Convert week_starting_date to datetime and extract the month\n",
    "train_df[\"week_starting_date\"] = pd.to_datetime(train_df[\"week_starting_date\"])\n",
    "train_df[\"month\"] = train_df[\"week_starting_date\"].dt.month\n",
    "\n",
    "# Merge train data with products data\n",
    "merged_data = pd.merge(train_df, products_df, on=\"product_id\", how=\"inner\")\n",
    "\n",
    "# Group by brand, product_group_1_code, and month to calculate mean sales\n",
    "grouped_monthly_sales = (\n",
    "    merged_data.groupby([\"brand\", \"product_group_1_code\", \"product_group_2_code\", \"month\"])\n",
    "    .agg(mean_sales=(\"sales_quantity\", \"mean\"))\n",
    "    .reset_index()\n",
    ")\n",
    "\n",
    "# Create a DataFrame with all combinations of brand, product_group_1_code, and months\n",
    "brands = products_df[\"brand\"].unique()\n",
    "product_groups = products_df[\"product_group_1_code\"].unique()\n",
    "product_groups2 = products_df[\"product_group_2_code\"].unique()\n",
    "months = list(range(1, 13))\n",
    "\n",
    "# Generate the full cartesian product of brand, product_group_1_code, and months\n",
    "full_combinations = pd.MultiIndex.from_product(\n",
    "    [brands, product_groups, product_groups2, months],\n",
    "    names=[\"brand\", \"product_group_1_code\", \"product_group_2_code\", \"month\"]\n",
    ").to_frame(index=False)\n",
    "\n",
    "# Merge full combinations with grouped sales data\n",
    "final_data = pd.merge(\n",
    "    full_combinations, grouped_monthly_sales, on=[\"brand\", \"product_group_1_code\",\"product_group_2_code\", \"month\"], how=\"left\"\n",
    ")\n",
    "\n",
    "# Fill missing mean sales with the overall monthly mean sales (if needed)\n",
    "overall_monthly_mean_sales = train_df.groupby(\"month\")[\"sales_quantity\"].mean()\n",
    "final_data[\"mean_sales\"] = final_data.apply(\n",
    "    lambda row: overall_monthly_mean_sales[row[\"month\"]]\n",
    "    if pd.isnull(row[\"mean_sales\"])\n",
    "    else row[\"mean_sales\"],\n",
    "    axis=1,\n",
    ")\n",
    "\n",
    "# Merge back with product_id from products_df\n",
    "final_data = pd.merge(\n",
    "    products_df[[\"product_id\", \"brand\", \"product_group_1_code\",\"product_group_2_code\"]],\n",
    "    final_data,\n",
    "    on=[\"brand\", \"product_group_1_code\", \"product_group_2_code\"],\n",
    "    how=\"inner\"\n",
    ")\n",
    "\n",
    "# Select final columns: product_id, brand, product_group_1_code, month, mean_sales\n",
    "final_data = final_data[\n",
    "    [\"product_id\", \"brand\", \"product_group_1_code\",\"product_group_2_code\", \"month\", \"mean_sales\"]\n",
    "]\n",
    "\n",
    "# Print the final data\n",
    "print(\"Final Data with Mean Sales by Brand, Product Group 1, and Month:\")\n",
    "print(final_data)\n",
    "\n",
    "# Save to a CSV file (optional)\n",
    "final_data.to_csv(\"final_monthly_mean_sales_by_brand_and_group1.csv\", index=False)\n"
   ]
  },
  {
   "cell_type": "code",
   "execution_count": 32,
   "id": "23d91db6",
   "metadata": {},
   "outputs": [
    {
     "name": "stdout",
     "output_type": "stream",
     "text": [
      "RMSLE on train data: 2.298316132025498\n"
     ]
    }
   ],
   "source": [
    "train_df = pd.read_csv(\"data/train.csv\")\n",
    "\n",
    "# Preprocess train data\n",
    "train_df[\"week_starting_date\"] = pd.to_datetime(train_df[\"week_starting_date\"])\n",
    "train_df[\"month\"] = train_df[\"week_starting_date\"].dt.month\n",
    "\n",
    "merged_data = pd.merge(train_df, products_df, on=\"product_id\", how=\"inner\")\n",
    "\n",
    "train_df=merged_data\n",
    "\n",
    "# Merge train data with final_data\n",
    "merged_train = pd.merge(\n",
    "    train_df,\n",
    "    final_data,\n",
    "    on=[\"product_id\",\"brand\", \"product_group_1_code\", \"product_group_2_code\", \"month\"],\n",
    "    how=\"left\"\n",
    ")\n",
    "\n",
    "# Handle missing mean_sales (if any)\n",
    "merged_train[\"mean_sales\"] = merged_train.apply(\n",
    "    lambda row: overall_monthly_mean_sales[row[\"month\"]]\n",
    "    if pd.isnull(row[\"mean_sales\"])\n",
    "    else row[\"mean_sales\"],\n",
    "    axis=1,\n",
    ")\n",
    "\n",
    "# Prepare true and predicted values\n",
    "y_true = merged_train[\"sales_quantity\"].apply(lambda x: max(x, 0)) \n",
    "y_pred = merged_train[\"mean_sales\"].apply(lambda x: max(x, 0))  # Ensure non-negative values\n",
    "\n",
    "# Calculate RMSLE\n",
    "rmsle = np.sqrt(mean_squared_log_error(y_true, y_pred))\n",
    "\n",
    "# Print evaluation result\n",
    "print(f\"RMSLE on train data: {rmsle}\")\n"
   ]
  }
 ],
 "metadata": {
  "kernelspec": {
   "display_name": "Python 3 (ipykernel)",
   "language": "python",
   "name": "python3"
  },
  "language_info": {
   "codemirror_mode": {
    "name": "ipython",
    "version": 3
   },
   "file_extension": ".py",
   "mimetype": "text/x-python",
   "name": "python",
   "nbconvert_exporter": "python",
   "pygments_lexer": "ipython3",
   "version": "3.9.13"
  }
 },
 "nbformat": 4,
 "nbformat_minor": 5
}
