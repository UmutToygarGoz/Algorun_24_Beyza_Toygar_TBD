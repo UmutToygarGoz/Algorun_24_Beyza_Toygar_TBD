{
 "cells": [
  {
   "cell_type": "code",
   "execution_count": 2,
   "metadata": {},
   "outputs": [],
   "source": [
    "import os\n",
    "\n",
    "class cfg():\n",
    "    data_path = \"/Users/user/Desktop/Algorun_24/data/data\"\n",
    "\n",
    "    seed = 42\n",
    "\n",
    "    holidays_path = os.path.join(data_path, \"holidays.csv\")\n",
    "    products_path = os.path.join(data_path, \"products.csv\")\n",
    "    promotions_path = os.path.join(data_path, \"promotions.csv\")\n",
    "    sample_submission_path = os.path.join(data_path, \"sample_submission.csv\")\n",
    "    test_path = os.path.join(data_path, \"test.csv\")\n",
    "    train_path = os.path.join(data_path, \"train.csv\")"
   ]
  },
  {
   "cell_type": "code",
   "execution_count": 3,
   "metadata": {},
   "outputs": [],
   "source": [
    "import numpy as np\n",
    "import pandas as pd\n",
    "import matplotlib.pyplot as plt\n",
    "import seaborn as sns"
   ]
  },
  {
   "cell_type": "code",
   "execution_count": 4,
   "metadata": {},
   "outputs": [],
   "source": [
    "holidays_df = pd.read_csv(cfg.holidays_path)\n",
    "products_df = pd.read_csv(cfg.products_path)\n",
    "promotions_df = pd.read_csv(cfg.promotions_path)\n",
    "sample_submission_df = pd.read_csv(cfg.sample_submission_path)\n",
    "test_df = pd.read_csv(cfg.test_path)\n",
    "train_df = pd.read_csv(cfg.train_path)"
   ]
  },
  {
   "cell_type": "code",
   "execution_count": 6,
   "metadata": {},
   "outputs": [
    {
     "data": {
      "text/html": [
       "<div>\n",
       "<style scoped>\n",
       "    .dataframe tbody tr th:only-of-type {\n",
       "        vertical-align: middle;\n",
       "    }\n",
       "\n",
       "    .dataframe tbody tr th {\n",
       "        vertical-align: top;\n",
       "    }\n",
       "\n",
       "    .dataframe thead th {\n",
       "        text-align: right;\n",
       "    }\n",
       "</style>\n",
       "<table border=\"1\" class=\"dataframe\">\n",
       "  <thead>\n",
       "    <tr style=\"text-align: right;\">\n",
       "      <th></th>\n",
       "      <th>product_id</th>\n",
       "      <th>week_starting_date</th>\n",
       "      <th>sales_quantity</th>\n",
       "      <th>inventory</th>\n",
       "      <th>sales_revenue</th>\n",
       "      <th>price_without_tax</th>\n",
       "      <th>initial_price</th>\n",
       "    </tr>\n",
       "  </thead>\n",
       "  <tbody>\n",
       "    <tr>\n",
       "      <th>0</th>\n",
       "      <td>0</td>\n",
       "      <td>2022-07-14</td>\n",
       "      <td>8.0</td>\n",
       "      <td>NaN</td>\n",
       "      <td>37.12</td>\n",
       "      <td>NaN</td>\n",
       "      <td>NaN</td>\n",
       "    </tr>\n",
       "    <tr>\n",
       "      <th>1</th>\n",
       "      <td>0</td>\n",
       "      <td>2023-07-13</td>\n",
       "      <td>7.0</td>\n",
       "      <td>NaN</td>\n",
       "      <td>34.50</td>\n",
       "      <td>NaN</td>\n",
       "      <td>NaN</td>\n",
       "    </tr>\n",
       "    <tr>\n",
       "      <th>2</th>\n",
       "      <td>0</td>\n",
       "      <td>2023-10-05</td>\n",
       "      <td>3.0</td>\n",
       "      <td>NaN</td>\n",
       "      <td>13.11</td>\n",
       "      <td>NaN</td>\n",
       "      <td>NaN</td>\n",
       "    </tr>\n",
       "    <tr>\n",
       "      <th>3</th>\n",
       "      <td>1</td>\n",
       "      <td>2023-03-23</td>\n",
       "      <td>2.0</td>\n",
       "      <td>NaN</td>\n",
       "      <td>7.50</td>\n",
       "      <td>NaN</td>\n",
       "      <td>NaN</td>\n",
       "    </tr>\n",
       "    <tr>\n",
       "      <th>4</th>\n",
       "      <td>4</td>\n",
       "      <td>2024-06-13</td>\n",
       "      <td>0.0</td>\n",
       "      <td>0.0</td>\n",
       "      <td>0.00</td>\n",
       "      <td>69.99</td>\n",
       "      <td>69.99</td>\n",
       "    </tr>\n",
       "    <tr>\n",
       "      <th>...</th>\n",
       "      <td>...</td>\n",
       "      <td>...</td>\n",
       "      <td>...</td>\n",
       "      <td>...</td>\n",
       "      <td>...</td>\n",
       "      <td>...</td>\n",
       "      <td>...</td>\n",
       "    </tr>\n",
       "    <tr>\n",
       "      <th>1763854</th>\n",
       "      <td>89712</td>\n",
       "      <td>2022-05-26</td>\n",
       "      <td>11.0</td>\n",
       "      <td>136.0</td>\n",
       "      <td>249.47</td>\n",
       "      <td>29.98</td>\n",
       "      <td>34.99</td>\n",
       "    </tr>\n",
       "    <tr>\n",
       "      <th>1763855</th>\n",
       "      <td>89712</td>\n",
       "      <td>2022-10-06</td>\n",
       "      <td>2.0</td>\n",
       "      <td>5.0</td>\n",
       "      <td>38.65</td>\n",
       "      <td>25.98</td>\n",
       "      <td>34.99</td>\n",
       "    </tr>\n",
       "    <tr>\n",
       "      <th>1763856</th>\n",
       "      <td>89715</td>\n",
       "      <td>2022-04-07</td>\n",
       "      <td>130.0</td>\n",
       "      <td>6670.0</td>\n",
       "      <td>6041.07</td>\n",
       "      <td>49.99</td>\n",
       "      <td>59.99</td>\n",
       "    </tr>\n",
       "    <tr>\n",
       "      <th>1763857</th>\n",
       "      <td>89715</td>\n",
       "      <td>2023-01-12</td>\n",
       "      <td>92.0</td>\n",
       "      <td>2713.0</td>\n",
       "      <td>4918.02</td>\n",
       "      <td>54.99</td>\n",
       "      <td>59.99</td>\n",
       "    </tr>\n",
       "    <tr>\n",
       "      <th>1763858</th>\n",
       "      <td>89715</td>\n",
       "      <td>2023-07-06</td>\n",
       "      <td>8.0</td>\n",
       "      <td>68.0</td>\n",
       "      <td>116.99</td>\n",
       "      <td>15.98</td>\n",
       "      <td>59.99</td>\n",
       "    </tr>\n",
       "  </tbody>\n",
       "</table>\n",
       "<p>1763859 rows × 7 columns</p>\n",
       "</div>"
      ],
      "text/plain": [
       "         product_id week_starting_date  sales_quantity  inventory  \\\n",
       "0                 0         2022-07-14             8.0        NaN   \n",
       "1                 0         2023-07-13             7.0        NaN   \n",
       "2                 0         2023-10-05             3.0        NaN   \n",
       "3                 1         2023-03-23             2.0        NaN   \n",
       "4                 4         2024-06-13             0.0        0.0   \n",
       "...             ...                ...             ...        ...   \n",
       "1763854       89712         2022-05-26            11.0      136.0   \n",
       "1763855       89712         2022-10-06             2.0        5.0   \n",
       "1763856       89715         2022-04-07           130.0     6670.0   \n",
       "1763857       89715         2023-01-12            92.0     2713.0   \n",
       "1763858       89715         2023-07-06             8.0       68.0   \n",
       "\n",
       "         sales_revenue  price_without_tax  initial_price  \n",
       "0                37.12                NaN            NaN  \n",
       "1                34.50                NaN            NaN  \n",
       "2                13.11                NaN            NaN  \n",
       "3                 7.50                NaN            NaN  \n",
       "4                 0.00              69.99          69.99  \n",
       "...                ...                ...            ...  \n",
       "1763854         249.47              29.98          34.99  \n",
       "1763855          38.65              25.98          34.99  \n",
       "1763856        6041.07              49.99          59.99  \n",
       "1763857        4918.02              54.99          59.99  \n",
       "1763858         116.99              15.98          59.99  \n",
       "\n",
       "[1763859 rows x 7 columns]"
      ]
     },
     "execution_count": 6,
     "metadata": {},
     "output_type": "execute_result"
    }
   ],
   "source": [
    "train_df"
   ]
  },
  {
   "cell_type": "code",
   "execution_count": 7,
   "metadata": {},
   "outputs": [
    {
     "data": {
      "text/html": [
       "<div>\n",
       "<style scoped>\n",
       "    .dataframe tbody tr th:only-of-type {\n",
       "        vertical-align: middle;\n",
       "    }\n",
       "\n",
       "    .dataframe tbody tr th {\n",
       "        vertical-align: top;\n",
       "    }\n",
       "\n",
       "    .dataframe thead th {\n",
       "        text-align: right;\n",
       "    }\n",
       "</style>\n",
       "<table border=\"1\" class=\"dataframe\">\n",
       "  <thead>\n",
       "    <tr style=\"text-align: right;\">\n",
       "      <th></th>\n",
       "      <th>product_id</th>\n",
       "      <th>week_starting_date</th>\n",
       "      <th>price_without_tax</th>\n",
       "      <th>initial_price</th>\n",
       "    </tr>\n",
       "  </thead>\n",
       "  <tbody>\n",
       "    <tr>\n",
       "      <th>0</th>\n",
       "      <td>63709</td>\n",
       "      <td>7/25/2024</td>\n",
       "      <td>29.980000</td>\n",
       "      <td>34.990002</td>\n",
       "    </tr>\n",
       "    <tr>\n",
       "      <th>1</th>\n",
       "      <td>78679</td>\n",
       "      <td>7/11/2024</td>\n",
       "      <td>55.980000</td>\n",
       "      <td>97.989998</td>\n",
       "    </tr>\n",
       "    <tr>\n",
       "      <th>2</th>\n",
       "      <td>80430</td>\n",
       "      <td>8/1/2024</td>\n",
       "      <td>55.980000</td>\n",
       "      <td>79.989998</td>\n",
       "    </tr>\n",
       "    <tr>\n",
       "      <th>3</th>\n",
       "      <td>14405</td>\n",
       "      <td>7/25/2024</td>\n",
       "      <td>39.980000</td>\n",
       "      <td>74.989998</td>\n",
       "    </tr>\n",
       "    <tr>\n",
       "      <th>4</th>\n",
       "      <td>8457</td>\n",
       "      <td>7/18/2024</td>\n",
       "      <td>99.989998</td>\n",
       "      <td>99.989998</td>\n",
       "    </tr>\n",
       "    <tr>\n",
       "      <th>...</th>\n",
       "      <td>...</td>\n",
       "      <td>...</td>\n",
       "      <td>...</td>\n",
       "      <td>...</td>\n",
       "    </tr>\n",
       "    <tr>\n",
       "      <th>144975</th>\n",
       "      <td>85455</td>\n",
       "      <td>7/25/2024</td>\n",
       "      <td>7.980000</td>\n",
       "      <td>29.990000</td>\n",
       "    </tr>\n",
       "    <tr>\n",
       "      <th>144976</th>\n",
       "      <td>13868</td>\n",
       "      <td>8/1/2024</td>\n",
       "      <td>44.990002</td>\n",
       "      <td>51.990002</td>\n",
       "    </tr>\n",
       "    <tr>\n",
       "      <th>144977</th>\n",
       "      <td>72117</td>\n",
       "      <td>7/18/2024</td>\n",
       "      <td>59.990002</td>\n",
       "      <td>59.990002</td>\n",
       "    </tr>\n",
       "    <tr>\n",
       "      <th>144978</th>\n",
       "      <td>2541</td>\n",
       "      <td>7/11/2024</td>\n",
       "      <td>65.980003</td>\n",
       "      <td>78.989998</td>\n",
       "    </tr>\n",
       "    <tr>\n",
       "      <th>144979</th>\n",
       "      <td>54218</td>\n",
       "      <td>7/11/2024</td>\n",
       "      <td>55.980000</td>\n",
       "      <td>64.989998</td>\n",
       "    </tr>\n",
       "  </tbody>\n",
       "</table>\n",
       "<p>144980 rows × 4 columns</p>\n",
       "</div>"
      ],
      "text/plain": [
       "        product_id week_starting_date  price_without_tax  initial_price\n",
       "0            63709          7/25/2024          29.980000      34.990002\n",
       "1            78679          7/11/2024          55.980000      97.989998\n",
       "2            80430           8/1/2024          55.980000      79.989998\n",
       "3            14405          7/25/2024          39.980000      74.989998\n",
       "4             8457          7/18/2024          99.989998      99.989998\n",
       "...            ...                ...                ...            ...\n",
       "144975       85455          7/25/2024           7.980000      29.990000\n",
       "144976       13868           8/1/2024          44.990002      51.990002\n",
       "144977       72117          7/18/2024          59.990002      59.990002\n",
       "144978        2541          7/11/2024          65.980003      78.989998\n",
       "144979       54218          7/11/2024          55.980000      64.989998\n",
       "\n",
       "[144980 rows x 4 columns]"
      ]
     },
     "execution_count": 7,
     "metadata": {},
     "output_type": "execute_result"
    }
   ],
   "source": [
    "test_df"
   ]
  },
  {
   "cell_type": "code",
   "execution_count": 12,
   "metadata": {},
   "outputs": [],
   "source": [
    "# Get unique product_ids from train_df\n",
    "unique_product_ids_train = train_df['product_id'].unique()\n",
    "\n",
    "unique_product_ids_test = test_df['product_id'].unique()"
   ]
  },
  {
   "cell_type": "code",
   "execution_count": 16,
   "metadata": {},
   "outputs": [],
   "source": [
    "# Compare unique product ids between train_df and test_df\n",
    "\n",
    "common_ids = set(train_df['product_id']).intersection(set(test_df['product_id']))\n"
   ]
  },
  {
   "cell_type": "code",
   "execution_count": 19,
   "metadata": {},
   "outputs": [
    {
     "data": {
      "text/plain": [
       "56267"
      ]
     },
     "execution_count": 19,
     "metadata": {},
     "output_type": "execute_result"
    }
   ],
   "source": [
    "len(unique_product_ids_train)"
   ]
  },
  {
   "cell_type": "code",
   "execution_count": 18,
   "metadata": {},
   "outputs": [
    {
     "data": {
      "text/plain": [
       "36245"
      ]
     },
     "execution_count": 18,
     "metadata": {},
     "output_type": "execute_result"
    }
   ],
   "source": [
    "len(unique_product_ids_test)"
   ]
  },
  {
   "cell_type": "code",
   "execution_count": 17,
   "metadata": {},
   "outputs": [
    {
     "data": {
      "text/plain": [
       "35645"
      ]
     },
     "execution_count": 17,
     "metadata": {},
     "output_type": "execute_result"
    }
   ],
   "source": [
    "len(common_ids)"
   ]
  },
  {
   "cell_type": "code",
   "execution_count": null,
   "metadata": {},
   "outputs": [],
   "source": []
  }
 ],
 "metadata": {
  "kernelspec": {
   "display_name": "base",
   "language": "python",
   "name": "python3"
  },
  "language_info": {
   "codemirror_mode": {
    "name": "ipython",
    "version": 3
   },
   "file_extension": ".py",
   "mimetype": "text/x-python",
   "name": "python",
   "nbconvert_exporter": "python",
   "pygments_lexer": "ipython3",
   "version": "3.11.5"
  }
 },
 "nbformat": 4,
 "nbformat_minor": 2
}
