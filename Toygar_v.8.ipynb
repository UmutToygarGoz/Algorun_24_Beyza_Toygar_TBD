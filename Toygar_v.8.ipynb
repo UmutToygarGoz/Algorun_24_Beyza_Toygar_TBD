{
 "cells": [
  {
   "cell_type": "code",
   "execution_count": 125,
   "metadata": {},
   "outputs": [],
   "source": [
    "import os\n",
    "\n",
    "class cfg():\n",
    "    data_path = \"/Users/user/Desktop/Algorun_24/data\"\n",
    "\n",
    "    seed = 42\n",
    "\n",
    "    holidays_path = os.path.join(data_path, \"holidays.csv\")\n",
    "    products_path = os.path.join(data_path, \"products.csv\")\n",
    "    promotions_path = os.path.join(data_path, \"promotions.csv\")\n",
    "    sample_submission_path = os.path.join(data_path, \"sample_submission.csv\")\n",
    "    test_path = os.path.join(data_path, \"test.csv\")\n",
    "    train_path = os.path.join(data_path, \"train.csv\")\n",
    "\n",
    "\n",
    "import numpy as np\n",
    "import pandas as pd\n",
    "import matplotlib.pyplot as plt\n",
    "import seaborn as sns\n",
    "import datetime as dt\n",
    "\n",
    "\n",
    "holidays_df = pd.read_csv(cfg.holidays_path)\n",
    "products_df = pd.read_csv(cfg.products_path)\n",
    "promotions_df = pd.read_csv(cfg.promotions_path)\n",
    "sample_submission_df = pd.read_csv(cfg.sample_submission_path, delimiter='|')\n",
    "test_df = pd.read_csv(cfg.test_path)\n",
    "train_df = pd.read_csv(cfg.train_path)\n",
    "\n",
    "# Convert columns to datetime format\n",
    "\n",
    "train_df[\"week_starting_date\"] = pd.to_datetime(train_df[\"week_starting_date\"])\n",
    "test_df[\"week_starting_date\"] = pd.to_datetime(test_df[\"week_starting_date\"])\n",
    "sample_submission_df[\"week_starting_date\"] = pd.to_datetime(sample_submission_df[\"week_starting_date\"])"
   ]
  },
  {
   "cell_type": "code",
   "execution_count": 126,
   "metadata": {},
   "outputs": [],
   "source": [
    "train_df = train_df.merge(products_df, on='product_id', how='left')\n",
    "\n",
    "train_df[\"product_group_1_2_3_code\"] = train_df[\"product_group_1_code\"].astype(str) + \"_\" + train_df[\"product_group_2_code\"].astype(str) + \"_\" + train_df[\"product_group_3_code\"].astype(str)"
   ]
  },
  {
   "cell_type": "code",
   "execution_count": 127,
   "metadata": {},
   "outputs": [],
   "source": [
    "# Thirteenth submission based on the sale of product groups(group_1_2_3) during last year same_time, and ratio of sale of products in the last 2 months\n",
    "\n",
    "# Assuming your DataFrame 'df' has columns: 'product_id', 'product_group', 'sale_date', 'sale_amount'\n",
    "\n",
    "shifted_train_df = train_df.copy()\n",
    "shifted_train_df[\"week_starting_date\"] = train_df[\"week_starting_date\"] + dt.timedelta(days=371)\n",
    "\n",
    "important_dates1 = list(test_df[\"week_starting_date\"].unique())\n",
    "prepared_shifted_train_df = shifted_train_df[\n",
    "    shifted_train_df[\"week_starting_date\"].isin(important_dates1)\n",
    "][[\"week_starting_date\", \"product_id\", \"sales_quantity\", \"product_group_1_2_3_code\"]]\n",
    "\n",
    "# Group by week_starting_date and product_group_1_2_3_code and sum the sales_quantity\n",
    "grouped_sales = prepared_shifted_train_df.groupby(\n",
    "    ['week_starting_date', 'product_group_1_2_3_code'])['sales_quantity'].sum().reset_index()\n",
    "\n",
    "# If you want to reshape the data to have product groups as columns\n",
    "# pivoted_sales = grouped_sales.pivot(\n",
    "#     index='week_starting_date', \n",
    "#     columns='product_group_1_2_3_code', \n",
    "#     values='sales_quantity'\n",
    "# )\n",
    "\n",
    "\n",
    "# First calculate the ratios as before\n",
    "last_date = train_df['week_starting_date'].max()\n",
    "two_months_ago = last_date - pd.DateOffset(months=2)\n",
    "last_2months_df = train_df[train_df['week_starting_date'] >= two_months_ago]\n",
    "\n",
    "# Calculate ratios\n",
    "product_sales = last_2months_df.groupby('product_id')['sales_quantity'].sum()\n",
    "group_sales = last_2months_df.groupby('product_group_1_2_3_code')['sales_quantity'].sum()\n",
    "\n",
    "sales_ratio = (\n",
    "    last_2months_df[['product_id', 'product_group_1_2_3_code']]\n",
    "    .drop_duplicates()\n",
    "    .set_index('product_id')\n",
    ")\n",
    "\n",
    "sales_ratio['product_sales'] = product_sales\n",
    "sales_ratio['group_total_sales'] = sales_ratio['product_group_1_2_3_code'].map(group_sales)\n",
    "sales_ratio['sales_ratio'] = sales_ratio['product_sales'] / sales_ratio['group_total_sales']\n",
    "sales_ratio = sales_ratio.reset_index()\n",
    "\n",
    "\n",
    "\n",
    "# Perform a merge operation instead of iterating\n",
    "merged_data = pd.merge(\n",
    "    grouped_sales[['week_starting_date', 'product_group_1_2_3_code', 'sales_quantity']],\n",
    "    sales_ratio[['product_group_1_2_3_code', 'product_id', 'sales_ratio']],\n",
    "    on='product_group_1_2_3_code'\n",
    ")\n",
    "\n",
    "# Vectorized calculation of predicted sales\n",
    "merged_data['predicted_sales'] = merged_data['sales_quantity'] * merged_data['sales_ratio']\n",
    "\n",
    "# Select required columns for final output\n",
    "predictions_df = merged_data[['week_starting_date', 'product_id', 'predicted_sales']]"
   ]
  },
  {
   "cell_type": "code",
   "execution_count": 128,
   "metadata": {},
   "outputs": [
    {
     "data": {
      "text/plain": [
       "week_starting_date           0\n",
       "product_group_1_2_3_code     0\n",
       "sales_quantity               0\n",
       "product_id                   0\n",
       "sales_ratio                 60\n",
       "predicted_sales             60\n",
       "dtype: int64"
      ]
     },
     "execution_count": 128,
     "metadata": {},
     "output_type": "execute_result"
    }
   ],
   "source": [
    "merged_data.isna().sum()"
   ]
  },
  {
   "cell_type": "code",
   "execution_count": 129,
   "metadata": {},
   "outputs": [
    {
     "data": {
      "text/html": [
       "<div>\n",
       "<style scoped>\n",
       "    .dataframe tbody tr th:only-of-type {\n",
       "        vertical-align: middle;\n",
       "    }\n",
       "\n",
       "    .dataframe tbody tr th {\n",
       "        vertical-align: top;\n",
       "    }\n",
       "\n",
       "    .dataframe thead th {\n",
       "        text-align: right;\n",
       "    }\n",
       "</style>\n",
       "<table border=\"1\" class=\"dataframe\">\n",
       "  <thead>\n",
       "    <tr style=\"text-align: right;\">\n",
       "      <th></th>\n",
       "      <th>product_id</th>\n",
       "      <th>predicted_sales</th>\n",
       "    </tr>\n",
       "  </thead>\n",
       "  <tbody>\n",
       "    <tr>\n",
       "      <th>count</th>\n",
       "      <td>173776.000000</td>\n",
       "      <td>173716.000000</td>\n",
       "    </tr>\n",
       "    <tr>\n",
       "      <th>mean</th>\n",
       "      <td>43328.625794</td>\n",
       "      <td>17.861890</td>\n",
       "    </tr>\n",
       "    <tr>\n",
       "      <th>std</th>\n",
       "      <td>25188.413096</td>\n",
       "      <td>101.598082</td>\n",
       "    </tr>\n",
       "    <tr>\n",
       "      <th>min</th>\n",
       "      <td>0.000000</td>\n",
       "      <td>-0.808570</td>\n",
       "    </tr>\n",
       "    <tr>\n",
       "      <th>25%</th>\n",
       "      <td>20935.750000</td>\n",
       "      <td>0.000000</td>\n",
       "    </tr>\n",
       "    <tr>\n",
       "      <th>50%</th>\n",
       "      <td>42691.500000</td>\n",
       "      <td>0.000000</td>\n",
       "    </tr>\n",
       "    <tr>\n",
       "      <th>75%</th>\n",
       "      <td>63920.750000</td>\n",
       "      <td>0.247221</td>\n",
       "    </tr>\n",
       "    <tr>\n",
       "      <th>max</th>\n",
       "      <td>89717.000000</td>\n",
       "      <td>6591.471846</td>\n",
       "    </tr>\n",
       "  </tbody>\n",
       "</table>\n",
       "</div>"
      ],
      "text/plain": [
       "          product_id  predicted_sales\n",
       "count  173776.000000    173716.000000\n",
       "mean    43328.625794        17.861890\n",
       "std     25188.413096       101.598082\n",
       "min         0.000000        -0.808570\n",
       "25%     20935.750000         0.000000\n",
       "50%     42691.500000         0.000000\n",
       "75%     63920.750000         0.247221\n",
       "max     89717.000000      6591.471846"
      ]
     },
     "execution_count": 129,
     "metadata": {},
     "output_type": "execute_result"
    }
   ],
   "source": [
    "predictions_df.describe()"
   ]
  },
  {
   "cell_type": "code",
   "execution_count": 130,
   "metadata": {},
   "outputs": [],
   "source": [
    "thirteenth_submission_df = sample_submission_df.copy()\n",
    "\n",
    "thirteenth_submission_df = thirteenth_submission_df.merge(predictions_df, on=[\"product_id\",\"week_starting_date\"], how=\"left\")\n",
    "\n",
    "thirteenth_submission_df[\"prediction\"] = thirteenth_submission_df[\"predicted_sales\"]\n",
    "\n",
    "thirteenth_submission_df = thirteenth_submission_df[[\"product_id\", \"week_starting_date\", \"prediction\"]]\n",
    "\n",
    "# Making negative numbers in prediction equal to 0\n",
    "thirteenth_submission_df.loc[thirteenth_submission_df[\"prediction\"] < 0, \"prediction\"] = 0"
   ]
  },
  {
   "cell_type": "code",
   "execution_count": null,
   "metadata": {},
   "outputs": [],
   "source": []
  },
  {
   "cell_type": "code",
   "execution_count": 131,
   "metadata": {},
   "outputs": [
    {
     "data": {
      "text/html": [
       "<div>\n",
       "<style scoped>\n",
       "    .dataframe tbody tr th:only-of-type {\n",
       "        vertical-align: middle;\n",
       "    }\n",
       "\n",
       "    .dataframe tbody tr th {\n",
       "        vertical-align: top;\n",
       "    }\n",
       "\n",
       "    .dataframe thead th {\n",
       "        text-align: right;\n",
       "    }\n",
       "</style>\n",
       "<table border=\"1\" class=\"dataframe\">\n",
       "  <thead>\n",
       "    <tr style=\"text-align: right;\">\n",
       "      <th></th>\n",
       "      <th>product_id</th>\n",
       "      <th>prediction</th>\n",
       "    </tr>\n",
       "  </thead>\n",
       "  <tbody>\n",
       "    <tr>\n",
       "      <th>count</th>\n",
       "      <td>144980.000000</td>\n",
       "      <td>142380.000000</td>\n",
       "    </tr>\n",
       "    <tr>\n",
       "      <th>mean</th>\n",
       "      <td>43665.162974</td>\n",
       "      <td>21.782750</td>\n",
       "    </tr>\n",
       "    <tr>\n",
       "      <th>std</th>\n",
       "      <td>24801.597894</td>\n",
       "      <td>111.835793</td>\n",
       "    </tr>\n",
       "    <tr>\n",
       "      <th>min</th>\n",
       "      <td>2.000000</td>\n",
       "      <td>0.000000</td>\n",
       "    </tr>\n",
       "    <tr>\n",
       "      <th>25%</th>\n",
       "      <td>22941.000000</td>\n",
       "      <td>0.000000</td>\n",
       "    </tr>\n",
       "    <tr>\n",
       "      <th>50%</th>\n",
       "      <td>42246.000000</td>\n",
       "      <td>0.083330</td>\n",
       "    </tr>\n",
       "    <tr>\n",
       "      <th>75%</th>\n",
       "      <td>64544.000000</td>\n",
       "      <td>0.427399</td>\n",
       "    </tr>\n",
       "    <tr>\n",
       "      <th>max</th>\n",
       "      <td>89717.000000</td>\n",
       "      <td>6591.471846</td>\n",
       "    </tr>\n",
       "  </tbody>\n",
       "</table>\n",
       "</div>"
      ],
      "text/plain": [
       "          product_id     prediction\n",
       "count  144980.000000  142380.000000\n",
       "mean    43665.162974      21.782750\n",
       "std     24801.597894     111.835793\n",
       "min         2.000000       0.000000\n",
       "25%     22941.000000       0.000000\n",
       "50%     42246.000000       0.083330\n",
       "75%     64544.000000       0.427399\n",
       "max     89717.000000    6591.471846"
      ]
     },
     "execution_count": 131,
     "metadata": {},
     "output_type": "execute_result"
    }
   ],
   "source": [
    "thirteenth_submission_df.describe()"
   ]
  },
  {
   "cell_type": "code",
   "execution_count": 132,
   "metadata": {},
   "outputs": [
    {
     "data": {
      "text/plain": [
       "product_id               0\n",
       "week_starting_date       0\n",
       "prediction            2600\n",
       "dtype: int64"
      ]
     },
     "execution_count": 132,
     "metadata": {},
     "output_type": "execute_result"
    }
   ],
   "source": [
    "thirteenth_submission_df.isna().sum()"
   ]
  },
  {
   "cell_type": "code",
   "execution_count": 133,
   "metadata": {},
   "outputs": [],
   "source": [
    "thirteenth_submission_df = sample_submission_df.copy()\n",
    "\n",
    "# First merge with predictions\n",
    "thirteenth_submission_df = thirteenth_submission_df.merge(predictions_df, on=[\"product_id\",\"week_starting_date\"], how=\"left\")\n",
    "\n",
    "# Merge with product information to get product_group_1_2_3_code\n",
    "thirteenth_submission_df = thirteenth_submission_df.merge(\n",
    "    train_df[['product_id', 'product_group_1_2_3_code']].drop_duplicates(),\n",
    "    on='product_id',\n",
    "    how='left'\n",
    ")\n",
    "\n",
    "# Fill NaN values with mean predictions for the same product group and week\n",
    "thirteenth_submission_df['predicted_sales'] = thirteenth_submission_df.groupby(\n",
    "    ['product_group_1_2_3_code', 'week_starting_date'])['predicted_sales'].transform(\n",
    "    lambda x: x.fillna(x.mean())\n",
    ")\n",
    "\n",
    "thirteenth_submission_df[\"prediction\"] = thirteenth_submission_df[\"predicted_sales\"]\n",
    "\n",
    "\n",
    "\n",
    "thirteenth_submission_df.fillna(3.5, inplace=True)"
   ]
  },
  {
   "cell_type": "code",
   "execution_count": 134,
   "metadata": {},
   "outputs": [
    {
     "data": {
      "text/html": [
       "<div>\n",
       "<style scoped>\n",
       "    .dataframe tbody tr th:only-of-type {\n",
       "        vertical-align: middle;\n",
       "    }\n",
       "\n",
       "    .dataframe tbody tr th {\n",
       "        vertical-align: top;\n",
       "    }\n",
       "\n",
       "    .dataframe thead th {\n",
       "        text-align: right;\n",
       "    }\n",
       "</style>\n",
       "<table border=\"1\" class=\"dataframe\">\n",
       "  <thead>\n",
       "    <tr style=\"text-align: right;\">\n",
       "      <th></th>\n",
       "      <th>product_id</th>\n",
       "      <th>week_starting_date</th>\n",
       "      <th>prediction</th>\n",
       "      <th>predicted_sales</th>\n",
       "      <th>product_group_1_2_3_code</th>\n",
       "    </tr>\n",
       "  </thead>\n",
       "  <tbody>\n",
       "  </tbody>\n",
       "</table>\n",
       "</div>"
      ],
      "text/plain": [
       "Empty DataFrame\n",
       "Columns: [product_id, week_starting_date, prediction, predicted_sales, product_group_1_2_3_code]\n",
       "Index: []"
      ]
     },
     "execution_count": 134,
     "metadata": {},
     "output_type": "execute_result"
    }
   ],
   "source": [
    "thirteenth_submission_df[thirteenth_submission_df[\"prediction\"].isna()]"
   ]
  },
  {
   "cell_type": "code",
   "execution_count": 135,
   "metadata": {},
   "outputs": [
    {
     "data": {
      "text/plain": [
       "product_id            0\n",
       "week_starting_date    0\n",
       "prediction            0\n",
       "dtype: int64"
      ]
     },
     "execution_count": 135,
     "metadata": {},
     "output_type": "execute_result"
    }
   ],
   "source": [
    "\n",
    "\n",
    "# Keep only required columns\n",
    "thirteenth_submission_df = thirteenth_submission_df[[\"product_id\", \"week_starting_date\", \"prediction\"]]\n",
    "\n",
    "# Making negative numbers in prediction equal to 0\n",
    "thirteenth_submission_df.loc[thirteenth_submission_df[\"prediction\"] < 0, \"prediction\"] = 0\n",
    "\n",
    "thirteenth_submission_df.isna().sum()"
   ]
  },
  {
   "cell_type": "code",
   "execution_count": 136,
   "metadata": {},
   "outputs": [
    {
     "data": {
      "text/html": [
       "<div>\n",
       "<style scoped>\n",
       "    .dataframe tbody tr th:only-of-type {\n",
       "        vertical-align: middle;\n",
       "    }\n",
       "\n",
       "    .dataframe tbody tr th {\n",
       "        vertical-align: top;\n",
       "    }\n",
       "\n",
       "    .dataframe thead th {\n",
       "        text-align: right;\n",
       "    }\n",
       "</style>\n",
       "<table border=\"1\" class=\"dataframe\">\n",
       "  <thead>\n",
       "    <tr style=\"text-align: right;\">\n",
       "      <th></th>\n",
       "      <th>product_id</th>\n",
       "      <th>prediction</th>\n",
       "    </tr>\n",
       "  </thead>\n",
       "  <tbody>\n",
       "    <tr>\n",
       "      <th>count</th>\n",
       "      <td>144980.000000</td>\n",
       "      <td>144980.000000</td>\n",
       "    </tr>\n",
       "    <tr>\n",
       "      <th>mean</th>\n",
       "      <td>43665.162974</td>\n",
       "      <td>21.473730</td>\n",
       "    </tr>\n",
       "    <tr>\n",
       "      <th>std</th>\n",
       "      <td>24801.597894</td>\n",
       "      <td>110.855977</td>\n",
       "    </tr>\n",
       "    <tr>\n",
       "      <th>min</th>\n",
       "      <td>2.000000</td>\n",
       "      <td>0.000000</td>\n",
       "    </tr>\n",
       "    <tr>\n",
       "      <th>25%</th>\n",
       "      <td>22941.000000</td>\n",
       "      <td>0.000000</td>\n",
       "    </tr>\n",
       "    <tr>\n",
       "      <th>50%</th>\n",
       "      <td>42246.000000</td>\n",
       "      <td>0.085933</td>\n",
       "    </tr>\n",
       "    <tr>\n",
       "      <th>75%</th>\n",
       "      <td>64544.000000</td>\n",
       "      <td>0.501545</td>\n",
       "    </tr>\n",
       "    <tr>\n",
       "      <th>max</th>\n",
       "      <td>89717.000000</td>\n",
       "      <td>6591.471846</td>\n",
       "    </tr>\n",
       "  </tbody>\n",
       "</table>\n",
       "</div>"
      ],
      "text/plain": [
       "          product_id     prediction\n",
       "count  144980.000000  144980.000000\n",
       "mean    43665.162974      21.473730\n",
       "std     24801.597894     110.855977\n",
       "min         2.000000       0.000000\n",
       "25%     22941.000000       0.000000\n",
       "50%     42246.000000       0.085933\n",
       "75%     64544.000000       0.501545\n",
       "max     89717.000000    6591.471846"
      ]
     },
     "execution_count": 136,
     "metadata": {},
     "output_type": "execute_result"
    }
   ],
   "source": [
    "thirteenth_submission_df.describe()"
   ]
  },
  {
   "cell_type": "code",
   "execution_count": 137,
   "metadata": {},
   "outputs": [],
   "source": [
    "thirteenth_submission_df.to_csv('thirteenth_submission.csv', index=False,sep=\"|\")"
   ]
  },
  {
   "cell_type": "code",
   "execution_count": 138,
   "metadata": {},
   "outputs": [],
   "source": [
    "# Fourteenth submission will be based on thirteenth submission, but the predictions will be multiplied with (thirteenth submission total sales + promotion calculation total sales)/ (2*thirteenth submission total sales)\n",
    "\n"
   ]
  }
 ],
 "metadata": {
  "kernelspec": {
   "display_name": "base",
   "language": "python",
   "name": "python3"
  },
  "language_info": {
   "codemirror_mode": {
    "name": "ipython",
    "version": 3
   },
   "file_extension": ".py",
   "mimetype": "text/x-python",
   "name": "python",
   "nbconvert_exporter": "python",
   "pygments_lexer": "ipython3",
   "version": "3.11.5"
  }
 },
 "nbformat": 4,
 "nbformat_minor": 2
}
